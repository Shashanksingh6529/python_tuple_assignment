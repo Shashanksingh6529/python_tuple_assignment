{
 "cells": [
  {
   "cell_type": "markdown",
   "id": "fdb3bff1-6dac-4016-854d-0ade2905d98b",
   "metadata": {},
   "source": [
    "Q1. What is a tuple in Python?"
   ]
  },
  {
   "cell_type": "code",
   "execution_count": 1,
   "id": "7ffad0d2-84af-4ad4-a7f9-89beb64375bd",
   "metadata": {},
   "outputs": [
    {
     "data": {
      "text/plain": [
       "\"Ordered: Like lists, tuples maintain the order of elements. You can access elements in a tuple by their index.\\nImmutable: Tuples cannot be changed or modified after creation. Once a tuple is created, you cannot add, remove, or modify its elements.\\nHeterogeneous: Tuples can contain elements of different data types, including integers, floats, strings, tuples, lists, dictionaries, and other objects.\\nIndexed: You can access individual elements of a tuple using square brackets [] and the element's index.\""
      ]
     },
     "execution_count": 1,
     "metadata": {},
     "output_type": "execute_result"
    }
   ],
   "source": [
    "\"\"\"Ordered: Like lists, tuples maintain the order of elements. You can access elements in a tuple by their index.\n",
    "Immutable: Tuples cannot be changed or modified after creation. Once a tuple is created, you cannot add, remove, or modify its elements.\n",
    "Heterogeneous: Tuples can contain elements of different data types, including integers, floats, strings, tuples, lists, dictionaries, and other objects.\n",
    "Indexed: You can access individual elements of a tuple using square brackets [] and the element's index.\"\"\""
   ]
  },
  {
   "cell_type": "markdown",
   "id": "09212c40-f2f5-4360-90a5-8c5d9f34b684",
   "metadata": {},
   "source": [
    "Q2. How do you create a tuple in Python?"
   ]
  },
  {
   "cell_type": "code",
   "execution_count": 2,
   "id": "f507c364-3e99-460a-acb0-699598261fb7",
   "metadata": {},
   "outputs": [
    {
     "name": "stdout",
     "output_type": "stream",
     "text": [
      "(1, 2, 3, 4, 5)\n"
     ]
    }
   ],
   "source": [
    "my_tuple = (1, 2, 3, 4, 5)\n",
    "my_tuple = tuple([1, 2, 3, 4, 5])\n",
    "print(my_tuple)"
   ]
  },
  {
   "cell_type": "markdown",
   "id": "7850aa0b-05e3-4e04-836e-a3e04659127d",
   "metadata": {},
   "source": [
    "Q3. What is the difference between a tuple and a list in Python?"
   ]
  },
  {
   "cell_type": "code",
   "execution_count": 3,
   "id": "34096dad-55ba-40cf-95fe-55fadd5ed824",
   "metadata": {},
   "outputs": [],
   "source": [
    "# List\n",
    "my_list = [1, 2, 3, 4, 5]\n",
    "my_list[0] = 10  # Valid, modifying the first element\n",
    "my_list.append(6)  # Valid, adding an element to the end\n",
    "\n",
    "# Tuple\n",
    "my_tuple = (1, 2, 3, 4, 5)\n",
    "# The following will raise a TypeError since tuples are immutable\n",
    "# my_tuple[0] = 10\n",
    "# my_tuple.append(6)"
   ]
  },
  {
   "cell_type": "markdown",
   "id": "550c11f9-f01d-4bd8-bb1b-86aa3395f039",
   "metadata": {},
   "source": [
    "Q4. Can a tuple be changed in Python?"
   ]
  },
  {
   "cell_type": "code",
   "execution_count": 4,
   "id": "52be980a-78fe-49ef-9ef1-4773eca53c22",
   "metadata": {},
   "outputs": [
    {
     "data": {
      "text/plain": [
       "'No, tuples cannot be changed in Python after they are created. Tuples are immutable data structures, which means once a tuple is created, you cannot modify its elements, add new elements, or remove existing elements. The immutability of tuples is one of their defining characteristics.'"
      ]
     },
     "execution_count": 4,
     "metadata": {},
     "output_type": "execute_result"
    }
   ],
   "source": [
    "\"\"\"No, tuples cannot be changed in Python after they are created. Tuples are immutable data structures, which means once a tuple is created, you cannot modify its elements, add new elements, or remove existing elements. The immutability of tuples is one of their defining characteristics.\"\"\""
   ]
  },
  {
   "cell_type": "code",
   "execution_count": null,
   "id": "20c84af9-f1fd-45cf-850a-984e1139149a",
   "metadata": {},
   "outputs": [],
   "source": [
    "my_tuple = (1, 2, 3)\n",
    "my_tuple[0] = 10  # This will raise a TypeError\n",
    "my_tuple = (1, 2, 3)\n",
    "my_tuple.append(4)  # This will raise a TypeError"
   ]
  },
  {
   "cell_type": "markdown",
   "id": "8612109a-2215-4354-82c1-9062198f937a",
   "metadata": {},
   "source": [
    "Q5. How do you access elements in a tuple?"
   ]
  },
  {
   "cell_type": "code",
   "execution_count": 5,
   "id": "7aac8264-d1b3-4c1d-8c32-5cba0db93163",
   "metadata": {},
   "outputs": [
    {
     "name": "stdout",
     "output_type": "stream",
     "text": [
      "10\n",
      "40\n",
      "50\n"
     ]
    }
   ],
   "source": [
    "my_tuple = (10, 20, 30, 40, 50)\n",
    "print(my_tuple[0])  # Output: 10\n",
    "print(my_tuple[3])  # Output: 40\n",
    "print(my_tuple[-1]) # Output: 50"
   ]
  },
  {
   "cell_type": "code",
   "execution_count": 6,
   "id": "717bc92a-be8f-4321-a02b-4c24c83d6ed3",
   "metadata": {},
   "outputs": [
    {
     "name": "stdout",
     "output_type": "stream",
     "text": [
      "(20, 30, 40)\n"
     ]
    }
   ],
   "source": [
    "my_tuple = (10, 20, 30, 40, 50)\n",
    "print(my_tuple[1:4])  # Output: (20, 30, 40)"
   ]
  },
  {
   "cell_type": "markdown",
   "id": "abba296a-8bca-4760-b7bb-f0371f25440d",
   "metadata": {},
   "source": [
    "Q6. How do you unpack a tuple in Python?"
   ]
  },
  {
   "cell_type": "code",
   "execution_count": 7,
   "id": "564cc9cb-35c7-4e89-87e5-09076219de5e",
   "metadata": {},
   "outputs": [
    {
     "name": "stdout",
     "output_type": "stream",
     "text": [
      "10\n",
      "20\n",
      "30\n"
     ]
    }
   ],
   "source": [
    "my_tuple = (10, 20, 30)\n",
    "a, b, c = my_tuple\n",
    "print(a)  # Output: 10\n",
    "print(b)  # Output: 20\n",
    "print(c)  # Output: 30"
   ]
  },
  {
   "cell_type": "code",
   "execution_count": 8,
   "id": "909982b3-bb9b-4a7f-9563-0258516f53f9",
   "metadata": {},
   "outputs": [
    {
     "name": "stdout",
     "output_type": "stream",
     "text": [
      "x: 20\n",
      "y: 10\n"
     ]
    }
   ],
   "source": [
    "x = 10\n",
    "y = 20\n",
    "x, y = y, x\n",
    "print(\"x:\", x)  # Output: 20\n",
    "print(\"y:\", y)  # Output: 10"
   ]
  },
  {
   "cell_type": "code",
   "execution_count": null,
   "id": "d2a8229d-1dc5-4b52-be0c-928355aff3f4",
   "metadata": {},
   "outputs": [],
   "source": []
  }
 ],
 "metadata": {
  "kernelspec": {
   "display_name": "Python 3 (ipykernel)",
   "language": "python",
   "name": "python3"
  },
  "language_info": {
   "codemirror_mode": {
    "name": "ipython",
    "version": 3
   },
   "file_extension": ".py",
   "mimetype": "text/x-python",
   "name": "python",
   "nbconvert_exporter": "python",
   "pygments_lexer": "ipython3",
   "version": "3.10.8"
  }
 },
 "nbformat": 4,
 "nbformat_minor": 5
}
